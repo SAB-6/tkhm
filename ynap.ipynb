{
 "cells": [
  {
   "cell_type": "markdown",
   "metadata": {},
   "source": [
    "This notebook accomplishes the following goals:\n",
    "\n",
    "1. Creates a scustomer scoring based on customer behaviour (recency and frequency) and employs kmeans++\n",
    "2. Creates a data class to load and manipulate the last.fm dataset\n",
    "3. Loads and transforms last.fm data and generates scores for the users based on their listening habit to music"
   ]
  },
  {
   "cell_type": "markdown",
   "metadata": {},
   "source": [
    "## Dependencies"
   ]
  },
  {
   "cell_type": "code",
   "execution_count": 1,
   "metadata": {},
   "outputs": [],
   "source": [
    "import pandas as pd\n",
    "import numpy as np\n",
    "import seaborn as sns\n",
    "import matplotlib.pyplot as plt\n",
    "import numpy as np\n",
    "from sklearn.cluster import KMeans\n",
    "np.random.seed(42)"
   ]
  },
  {
   "cell_type": "markdown",
   "metadata": {},
   "source": [
    "### Download data from last.fm"
   ]
  },
  {
   "cell_type": "code",
   "execution_count": 2,
   "metadata": {},
   "outputs": [],
   "source": [
    "#! wget http://mtg.upf.edu/static/datasets/last.fm/lastfm-dataset-1K.tar.gz"
   ]
  },
  {
   "cell_type": "markdown",
   "metadata": {},
   "source": [
    "### unpack a tar.gz file"
   ]
  },
  {
   "cell_type": "code",
   "execution_count": 1,
   "metadata": {},
   "outputs": [],
   "source": [
    "#!tar -xzvf lastfm-dataset-1K.tar.gz"
   ]
  },
  {
   "cell_type": "code",
   "execution_count": 2,
   "metadata": {},
   "outputs": [],
   "source": [
    "class Data:\n",
    "    def __init__(self):\n",
    "        \"\"\"initialize the Data Class\"\"\"\n",
    "        self.data = None\n",
    "        \n",
    "    def read_file(self, filename, format='tsv', columns = None):\n",
    "        '''\n",
    "        The function loads data from excel, csv, tsv, or txt file\n",
    "        Args:\n",
    "            filename- the path to the file to be read\n",
    "            format - the format of the file\n",
    "        Returns\n",
    "             - None\n",
    "        '''\n",
    "        if format == 'excel':\n",
    "            self.data = pd.read_excel(filename)\n",
    "        elif format == 'csv':\n",
    "            self.data = pd.read_csv(filename)\n",
    "        elif format == 'tsv':\n",
    "            self.data = pd.read_csv(filename, sep='\\t', names= columns)\n",
    "        elif format == 'txt':\n",
    "            self.data = pd.read_table(filename)\n",
    "        else:\n",
    "            raise ValueError('Invalid file format.  Please specify \"excel\", \"csv\", \"tsv\", or \"txt\".')\n",
    "\n",
    "    \n",
    "    def drop_cols(self, drop_cols):\n",
    "        \"\"\"\n",
    "        The function updates the data instance by dropping unwanted columns\n",
    "        Args:\n",
    "            drop_cols- list type item; columns to be dropped\n",
    "        \n",
    "        Returns:\n",
    "            a downsized dataframe\n",
    "        \"\"\"\n",
    "       \n",
    "        self.data = self.data.drop(drop_cols, axis = 1)\n",
    "        return self.data\n",
    "    \n",
    "    def add_extra_columns(self, userid, column1, column2):\n",
    "        \"\"\"\n",
    "        Generate new features named recency and frequency from the specified columns\n",
    "        recency - it is the last time the user was active on the website substracted from the latest date\n",
    "        frequency - define how ofetn a user interact with the website\n",
    "        Args:\n",
    "            userid - type string, column containing userid\n",
    "            column1 and column2 are string type columns to calculate recency and frequency from respectively\n",
    "        \n",
    "        Returns\n",
    "            a dataframe with two newly generated features\n",
    "           \n",
    "        \"\"\"\n",
    "        df = self.drop_cols(drop_cols = drop_cols)\n",
    "        print(df.head())\n",
    "        print(\" \")\n",
    "        \n",
    "        # Set Latest date to the last listen habit. This is to calculate the number of days from recent activity\n",
    "        latest_date = pd.to_datetime(\"2009/05/05\").tz_localize('UTC')\n",
    "        \n",
    "        # filter out column with timestamp later than May 5th 2009        \n",
    "        df = df[(df[column1] <= '2009-05-05')]\n",
    "        \n",
    "        # convert column to date and time\n",
    "        df[column1] = pd.to_datetime(df[column1])\n",
    "        \n",
    "        # Create RF Modelling scores for each user\n",
    "        df = df.groupby(userid).agg({column1: lambda x: (latest_date - x.max()).days, column2: lambda x: len(x)})\n",
    "        \n",
    "        #Convert date and time column into type int\n",
    "        df['timestamp'] = df['timestamp'].astype(int)\n",
    "                \n",
    "        #Rename column names to Recency, Frequency\n",
    "        df.rename(columns={column1: 'recency', \n",
    "                         column2: 'frequency'},\n",
    "                  inplace=True)\n",
    "        print(\"\\n\",df.head(),\"\\n\")\n",
    "        return df.reset_index()"
   ]
  },
  {
   "cell_type": "code",
   "execution_count": 3,
   "metadata": {},
   "outputs": [],
   "source": [
    "class Create_Score:\n",
    "    def __init__(self, df):\n",
    "        '''initialize Create_Score class'''\n",
    "        self.df = df\n",
    "        \n",
    "    def elbow_method_plot(self, col_plot):\n",
    "        \"\"\"\n",
    "        This function takes a column from the RFM dataframe as a string\n",
    "        and plots number of k versus sum od squared distances known as\n",
    "        elbow method to determine the optimum value of k\n",
    "        Args:\n",
    "            df - dataframe containing recency and frequency columns\n",
    "            col_plot - type-list; columns to finds the number of clusters for\n",
    "        Returns:\n",
    "            None\n",
    "        \"\"\"\n",
    "        for col in col_plot:\n",
    "            sum_of_sq_dist = {}\n",
    "            for k in range(1,15):\n",
    "                km = KMeans(n_clusters= k, init= 'k-means++', max_iter= 1000)\n",
    "                km = km.fit(self.df[col].values.reshape(-1,1))\n",
    "                sum_of_sq_dist[k] = km.inertia_  \n",
    "            # Plot the graph for the sum of square distance values and Number of Clusters\n",
    "            sns.pointplot(x = list(sum_of_sq_dist.keys()), y = list(sum_of_sq_dist.values()))\n",
    "            plt.xlabel(\"Number of Clusters (k)\")\n",
    "            plt.ylabel(\"Sum of Square Distances\")\n",
    "            plt.title(\"Optimal k for \" + col + \" using elbow method\")\n",
    "            plt.show()\n",
    "    \n",
    "    def score_df(self, rec_cluster_no, freq_cluster_no, rec_col, freq_col):\n",
    "        \"\"\"\"\n",
    "        This function generates clusters for specified columns (recency and frequency)\n",
    "        and generate a score for the users\n",
    "        Args:\n",
    "            rec_cluster_no - type- int, optimum no of cluster derived from the elbow plot for the recency column\n",
    "            freq_cluster_no - type- int, optimum no of cluster derived from the elbow plot for the frequency column\n",
    "            rec_col -  type - string, recency\n",
    "            freq_col- type - string, frequency\n",
    "            \n",
    "        \n",
    "        \"\"\"\n",
    "    \n",
    "        ## instantiate kmeans++ with optimum k for recency\n",
    "        km = KMeans(n_clusters = rec_cluster_no, init= 'k-means++', max_iter= 1000)\n",
    "        km.fit(self.df[rec_col].values.reshape(-1,1))\n",
    "        \n",
    "        # Assigning cluster prediction to customers\n",
    "        df.loc[:, rec_col +\"_cluster\"] = km.predict(self.df[[rec_col]])\n",
    "    \n",
    "        ## initialize kmeans++ with optimum k for frequency\n",
    "        km = KMeans(n_clusters = freq_cluster_no, init= 'k-means++', max_iter= 1000)\n",
    "        km.fit(self.df[freq_col].values.reshape(-1,1))\n",
    "        \n",
    "        # Assigning cluster prediction to customers\n",
    "        df.loc[:, freq_col +\"_cluster\"] = km.predict(df[[freq_col]])\n",
    "        \n",
    "        # Generate score \n",
    "        df[\"score\"] = df[[rec_col +\"_cluster\", freq_col +\"_cluster\"]].sum(axis = 1)\n",
    "                \n",
    "        return df"
   ]
  },
  {
   "cell_type": "code",
   "execution_count": 8,
   "metadata": {},
   "outputs": [],
   "source": [
    "load_and_process_data = True\n",
    "create_score = True"
   ]
  },
  {
   "cell_type": "markdown",
   "metadata": {},
   "source": [
    "## Load tsv file into DataFrame and process data"
   ]
  },
  {
   "cell_type": "code",
   "execution_count": 9,
   "metadata": {},
   "outputs": [
    {
     "name": "stdout",
     "output_type": "stream",
     "text": [
      "        userid             timestamp                 musicbrainz-artist-id\n",
      "0  user_000001  2009-05-04T23:08:57Z  f1b1cf71-bd35-4e99-8624-24a6e15f133a\n",
      "1  user_000001  2009-05-04T13:54:10Z  a7f7df4a-77d8-4f12-8acd-5c60c93f4de8\n",
      "2  user_000001  2009-05-04T13:52:04Z  a7f7df4a-77d8-4f12-8acd-5c60c93f4de8\n",
      "3  user_000001  2009-05-04T13:42:52Z  a7f7df4a-77d8-4f12-8acd-5c60c93f4de8\n",
      "4  user_000001  2009-05-04T13:42:11Z  a7f7df4a-77d8-4f12-8acd-5c60c93f4de8\n",
      " \n"
     ]
    },
    {
     "name": "stderr",
     "output_type": "stream",
     "text": [
      "C:\\ProgramData\\Anaconda3\\lib\\site-packages\\ipykernel_launcher.py:64: SettingWithCopyWarning: \n",
      "A value is trying to be set on a copy of a slice from a DataFrame.\n",
      "Try using .loc[row_indexer,col_indexer] = value instead\n",
      "\n",
      "See the caveats in the documentation: http://pandas.pydata.org/pandas-docs/stable/user_guide/indexing.html#returning-a-view-versus-a-copy\n"
     ]
    },
    {
     "name": "stdout",
     "output_type": "stream",
     "text": [
      "\n",
      "              recency  frequency\n",
      "userid                         \n",
      "user_000001        0      16685\n",
      "user_000002        6      57438\n",
      "user_000003        0      19494\n",
      "user_000004        4      18411\n",
      "user_000005        0      20341 \n",
      "\n"
     ]
    }
   ],
   "source": [
    "# Define required variables\n",
    "filename = \"lastfm-dataset-1K/userid-timestamp-artid-artname-traid-traname.tsv\"\n",
    "columns = [\"userid\", \"timestamp\", \"musicbrainz-artist-id\", \"artist-name\", \"musicbrainz-track-id\", \"track-name\"]\n",
    "drop_cols = [\"artist-name\", \"musicbrainz-track-id\", \"track-name\"]\n",
    "userid = \"userid\"\n",
    "column1 = \"timestamp\"\n",
    "column2 = \"musicbrainz-artist-id\"\n",
    "\n",
    "if load_and_process_data:\n",
    "    data = Data()\n",
    "    data.read_file(filename, format='tsv', columns = columns)\n",
    "    df = data.add_extra_columns(userid, column1, column2)"
   ]
  },
  {
   "cell_type": "markdown",
   "metadata": {},
   "source": [
    "## Create an instance for the class create score and make make elbow plots"
   ]
  },
  {
   "cell_type": "code",
   "execution_count": 11,
   "metadata": {},
   "outputs": [
    {
     "data": {
      "image/png": "[encoded data removed]",
      "text/plain": [
       "<Figure size 432x288 with 1 Axes>"
      ]
     },
     "metadata": {
      "needs_background": "light"
     },
     "output_type": "display_data"
    },
    {
     "data": {
      "image/png": "[encoded data removed]",
      "text/plain": [
       "<Figure size 432x288 with 1 Axes>"
      ]
     },
     "metadata": {
      "needs_background": "light"
     },
     "output_type": "display_data"
    }
   ],
   "source": [
    "col_plot = [\"recency\", \"frequency\"]\n",
    "if create_score:\n",
    "    score_df = Create_Score(df)\n",
    "    score_df.elbow_method_plot(col_plot)"
   ]
  },
  {
   "cell_type": "markdown",
   "metadata": {},
   "source": [
    "## Create a DataFrame with users scores"
   ]
  },
  {
   "cell_type": "code",
   "execution_count": 12,
   "metadata": {},
   "outputs": [],
   "source": [
    "rec_cluster_no = 3\n",
    "freq_cluster_no = 4\n",
    "rec_col = \"recency\"\n",
    "freq_col = \"frequency\"\n",
    "score_df = score_df.score_df(rec_cluster_no, freq_cluster_no, rec_col, freq_col)"
   ]
  },
  {
   "cell_type": "code",
   "execution_count": 13,
   "metadata": {},
   "outputs": [
    {
     "data": {
      "text/html": [
       "<div>\n",
       "<style scoped>\n",
       "    .dataframe tbody tr th:only-of-type {\n",
       "        vertical-align: middle;\n",
       "    }\n",
       "\n",
       "    .dataframe tbody tr th {\n",
       "        vertical-align: top;\n",
       "    }\n",
       "\n",
       "    .dataframe thead th {\n",
       "        text-align: right;\n",
       "    }\n",
       "</style>\n",
       "<table border=\"1\" class=\"dataframe\">\n",
       "  <thead>\n",
       "    <tr style=\"text-align: right;\">\n",
       "      <th></th>\n",
       "      <th>userid</th>\n",
       "      <th>recency</th>\n",
       "      <th>frequency</th>\n",
       "      <th>recency_cluster</th>\n",
       "      <th>frequency_cluster</th>\n",
       "      <th>score</th>\n",
       "    </tr>\n",
       "  </thead>\n",
       "  <tbody>\n",
       "    <tr>\n",
       "      <td>0</td>\n",
       "      <td>user_000001</td>\n",
       "      <td>0</td>\n",
       "      <td>16685</td>\n",
       "      <td>0</td>\n",
       "      <td>0</td>\n",
       "      <td>0</td>\n",
       "    </tr>\n",
       "    <tr>\n",
       "      <td>1</td>\n",
       "      <td>user_000002</td>\n",
       "      <td>6</td>\n",
       "      <td>57438</td>\n",
       "      <td>0</td>\n",
       "      <td>2</td>\n",
       "      <td>2</td>\n",
       "    </tr>\n",
       "    <tr>\n",
       "      <td>2</td>\n",
       "      <td>user_000003</td>\n",
       "      <td>0</td>\n",
       "      <td>19494</td>\n",
       "      <td>0</td>\n",
       "      <td>0</td>\n",
       "      <td>0</td>\n",
       "    </tr>\n",
       "    <tr>\n",
       "      <td>3</td>\n",
       "      <td>user_000004</td>\n",
       "      <td>4</td>\n",
       "      <td>18411</td>\n",
       "      <td>0</td>\n",
       "      <td>0</td>\n",
       "      <td>0</td>\n",
       "    </tr>\n",
       "    <tr>\n",
       "      <td>4</td>\n",
       "      <td>user_000005</td>\n",
       "      <td>0</td>\n",
       "      <td>20341</td>\n",
       "      <td>0</td>\n",
       "      <td>0</td>\n",
       "      <td>0</td>\n",
       "    </tr>\n",
       "  </tbody>\n",
       "</table>\n",
       "</div>"
      ],
      "text/plain": [
       "        userid  recency  frequency  recency_cluster  frequency_cluster  score\n",
       "0  user_000001        0      16685                0                  0      0\n",
       "1  user_000002        6      57438                0                  2      2\n",
       "2  user_000003        0      19494                0                  0      0\n",
       "3  user_000004        4      18411                0                  0      0\n",
       "4  user_000005        0      20341                0                  0      0"
      ]
     },
     "execution_count": 13,
     "metadata": {},
     "output_type": "execute_result"
    }
   ],
   "source": [
    "score_df.head()"
   ]
  },
  {
   "cell_type": "code",
   "execution_count": 14,
   "metadata": {},
   "outputs": [
    {
     "data": {
      "text/plain": [
       "count    991.000000\n",
       "mean       2.083754\n",
       "std        1.427029\n",
       "min        0.000000\n",
       "25%        0.000000\n",
       "50%        3.000000\n",
       "75%        3.000000\n",
       "max        5.000000\n",
       "Name: score, dtype: float64"
      ]
     },
     "execution_count": 14,
     "metadata": {},
     "output_type": "execute_result"
    }
   ],
   "source": [
    "score_df[\"score\"].describe()"
   ]
  },
  {
   "cell_type": "code",
   "execution_count": 18,
   "metadata": {},
   "outputs": [
    {
     "data": {
      "image/png": "[encoded data removed]",
      "text/plain": [
       "<Figure size 864x576 with 1 Axes>"
      ]
     },
     "metadata": {},
     "output_type": "display_data"
    }
   ],
   "source": [
    "plt.figure(figsize=(12,8))\n",
    "sns.set(style=\"darkgrid\")\n",
    "sns.countplot(score_df[\"score\"]);"
   ]
  },
  {
   "cell_type": "markdown",
   "metadata": {},
   "source": [
    "### A brief summary about the score\n",
    "- The score ranges between 0 and 5\n",
    "- The lower the score the more active the users are in terms of recency and how frequent they listen to music on the site\n",
    "- Based on the score one can categorise the users into active users (0-1), medium users(2-3) and less active users (4-5)\n",
    "- Most users can be termed medium users with score of 3 while reasonable amount of users are also active users."
   ]
  },
  {
   "cell_type": "markdown",
   "metadata": {},
   "source": [
    "### Explain the approach you took"
   ]
  },
  {
   "cell_type": "markdown",
   "metadata": {},
   "source": [
    "### The approach include:\n",
    "1. Understand the problems which in this case involves scoring the customers based on the data provided\n",
    "2. Understanding the data: explore the data\n",
    "  - Understanding the different type of features\n",
    "  - The number of samples\n",
    "  - Check for missing values\n",
    "  - Check if the data can address the problem\n",
    "3. A simple scoring method was developed using RF model which is quite similar to RFM (Recency, frequency and monetary)\n",
    "  - Recency in a RFM analysis is the time since the customer’s most recent transaction (most businesses use days, but one can use months, weeks or even hours). Here recency was calculated based on the recent number of days a user had listened to a music\n",
    "  - Frequency is how often a customer has transacted or interacted with a product within a specific time frame? \n",
    "  - Monetary this is the maount a customer has spent on a product/brand within a specified time. \n",
    "  In the last.fm data, the monetary part of the RFM was not calculated because the data does not include price. Hence, the calculation was restricted to just recency and frequency.\n",
    " 4. After engineering the recency and frequency features, kmeans algorithm was used to detect the clusters for both recency and frequency individaully and a customer score was generated from the clusters\n",
    " \n",
    " ### Reason for taking the approach\n",
    " There are other ways in which one could have done this, however, the pparoach precented here is:\n",
    " 1. Simple\n",
    " 2. Intuitive\n",
    " 3. Easily interpretable\n",
    " \n",
    " ### Limitations\n",
    " Limitations associated with the approach presented here include:\n",
    " 1. RFM model does not include the length of relationship with a user\n",
    " 2. There are other dimensions that could have ehnanced te customer scoring which are missing in the RFM model"
   ]
  },
  {
   "cell_type": "markdown",
   "metadata": {},
   "source": [
    "### Explain what you would ideally do next, if you were doing this in your job and had the time and resources you needed to do it to your satisfaction."
   ]
  },
  {
   "cell_type": "markdown",
   "metadata": {},
   "source": [
    " Things I could have done next are:\n",
    "1. Consider other dimensions that could add value to the scoring e.g users subscription period\n",
    "2. Create additional feature engineering\n",
    "3. Validate the model and collaborate with other teams (product team) to make sure the model addresses the business objectives"
   ]
  },
  {
   "cell_type": "code",
   "execution_count": null,
   "metadata": {},
   "outputs": [],
   "source": []
  }
 ],
 "metadata": {
  "kernelspec": {
   "display_name": "Python 3",
   "language": "python",
   "name": "python3"
  },
  "language_info": {
   "codemirror_mode": {
    "name": "ipython",
    "version": 3
   },
   "file_extension": ".py",
   "mimetype": "text/x-python",
   "name": "python",
   "nbconvert_exporter": "python",
   "pygments_lexer": "ipython3",
   "version": "3.7.4"
  }
 },
 "nbformat": 4,
 "nbformat_minor": 2
}
